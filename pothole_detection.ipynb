{
 "cells": [
  {
   "cell_type": "markdown",
   "id": "5eb51f00",
   "metadata": {},
   "source": [
    "\n",
    "# 🛣️ Pothole Detection using Adaptive Thresholding & Texture Analysis\n",
    "\n",
    "This notebook demonstrates pothole detection on road images using **classical computer vision** techniques such as:\n",
    "- Grayscale conversion\n",
    "- Gaussian blur\n",
    "- Adaptive Thresholding\n",
    "- Morphological operations\n",
    "- Contour detection & filtering\n",
    "\n",
    "---\n"
   ]
  },
  {
   "cell_type": "code",
   "execution_count": null,
   "id": "717011d5",
   "metadata": {},
   "outputs": [],
   "source": [
    "\n",
    "!pip install opencv-python numpy matplotlib\n"
   ]
  },
  {
   "cell_type": "code",
   "execution_count": null,
   "id": "1f036a4c",
   "metadata": {},
   "outputs": [],
   "source": [
    "\n",
    "import cv2\n",
    "import numpy as np\n",
    "import matplotlib.pyplot as plt\n",
    "from google.colab import files\n",
    "\n",
    "def show_image(img, title=\"Image\"):\n",
    "    plt.figure(figsize=(10, 6))\n",
    "    if len(img.shape) == 2:\n",
    "        plt.imshow(img, cmap=\"gray\")\n",
    "    else:\n",
    "        plt.imshow(cv2.cvtColor(img, cv2.COLOR_BGR2RGB))\n",
    "    plt.title(title)\n",
    "    plt.axis('off')\n",
    "    plt.show()\n"
   ]
  },
  {
   "cell_type": "code",
   "execution_count": null,
   "id": "31824f4c",
   "metadata": {},
   "outputs": [],
   "source": [
    "\n",
    "# Upload an image (JPG/PNG) from your computer\n",
    "uploaded = files.upload()\n",
    "image_path = list(uploaded.keys())[0]\n"
   ]
  },
  {
   "cell_type": "code",
   "execution_count": null,
   "id": "db27d881",
   "metadata": {},
   "outputs": [],
   "source": [
    "\n",
    "image = cv2.imread(image_path)\n",
    "if image is None:\n",
    "    raise FileNotFoundError(f\"Could not read image at path: {image_path}\")\n",
    "\n",
    "scale = 800 / image.shape[1]\n",
    "image = cv2.resize(image, (800, int(image.shape[0] * scale)))\n",
    "show_image(image, \"Original Image\")\n"
   ]
  },
  {
   "cell_type": "code",
   "execution_count": null,
   "id": "8ff680a5",
   "metadata": {},
   "outputs": [],
   "source": [
    "\n",
    "gray = cv2.cvtColor(image, cv2.COLOR_BGR2GRAY)\n",
    "show_image(gray, \"Grayscale Image\")\n",
    "\n",
    "blurred = cv2.GaussianBlur(gray, (5, 5), 0)\n",
    "show_image(blurred, \"Blurred Image\")\n"
   ]
  },
  {
   "cell_type": "code",
   "execution_count": null,
   "id": "910793a6",
   "metadata": {},
   "outputs": [],
   "source": [
    "\n",
    "adaptive_thresh = cv2.adaptiveThreshold(\n",
    "    blurred, 255, cv2.ADAPTIVE_THRESH_GAUSSIAN_C,\n",
    "    cv2.THRESH_BINARY_INV, 11, 2\n",
    ")\n",
    "show_image(adaptive_thresh, \"Adaptive Thresholding\")\n"
   ]
  },
  {
   "cell_type": "code",
   "execution_count": null,
   "id": "d6610e56",
   "metadata": {},
   "outputs": [],
   "source": [
    "\n",
    "kernel = np.ones((7, 7), np.uint8)\n",
    "closed = cv2.morphologyEx(adaptive_thresh, cv2.MORPH_CLOSE, kernel)\n",
    "show_image(closed, \"After Morphological Closing\")\n"
   ]
  },
  {
   "cell_type": "code",
   "execution_count": null,
   "id": "439b2a8e",
   "metadata": {},
   "outputs": [],
   "source": [
    "\n",
    "contours, _ = cv2.findContours(closed, cv2.RETR_EXTERNAL, cv2.CHAIN_APPROX_SIMPLE)\n",
    "output_img = image.copy()\n",
    "\n",
    "for c in contours:\n",
    "    area = cv2.contourArea(c)\n",
    "    if area > 4000:\n",
    "        x, y, w, h = cv2.boundingRect(c)\n",
    "        aspect_ratio = w / float(h)\n",
    "        if 0.5 < aspect_ratio < 3:\n",
    "            cv2.rectangle(output_img, (x, y), (x + w, y + h), (0, 255, 0), 3)\n",
    "\n",
    "show_image(output_img, \"Final Pothole Detection\")\n"
   ]
  }
 ],
 "metadata": {},
 "nbformat": 4,
 "nbformat_minor": 5
}